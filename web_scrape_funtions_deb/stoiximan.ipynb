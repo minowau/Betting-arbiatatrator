{
 "cells": [
  {
   "cell_type": "code",
   "execution_count": 1,
   "metadata": {},
   "outputs": [],
   "source": [
    "from selenium import webdriver\n",
    "from selenium.webdriver.support.ui import WebDriverWait\n",
    "from selenium.webdriver.support import expected_conditions as EC\n",
    "from selenium.webdriver.common.by import By\n",
    "from selenium.webdriver.common.keys import Keys\n",
    "import time, csv\n",
    "import pandas as pd\n",
    "from selenium.common.exceptions import NoSuchElementException\n",
    "from selenium.webdriver.chrome.service import Service\n",
    "from webdriver_manager.chrome import ChromeDriverManager\n",
    "from selenium.webdriver.support.relative_locator import locate_with"
   ]
  },
  {
   "cell_type": "code",
   "execution_count": 82,
   "metadata": {},
   "outputs": [
    {
     "name": "stderr",
     "output_type": "stream",
     "text": [
      "[WDM] - Downloading: 100%|██████████| 6.79M/6.79M [00:00<00:00, 8.20MB/s]\n",
      "C:\\Users\\panag\\AppData\\Local\\Temp/ipykernel_2272/1503906442.py:1: DeprecationWarning: executable_path has been deprecated, please pass in a Service object\n",
      "  driver = webdriver.Chrome(ChromeDriverManager().install())\n"
     ]
    }
   ],
   "source": [
    "driver = webdriver.Chrome(ChromeDriverManager().install())"
   ]
  },
  {
   "attachments": {},
   "cell_type": "markdown",
   "metadata": {},
   "source": [
    "## 1. Football"
   ]
  },
  {
   "cell_type": "code",
   "execution_count": 83,
   "metadata": {},
   "outputs": [],
   "source": [
    "football_url = 'https://en.stoiximan.gr/sport/soccer/'\n",
    "driver.get(football_url)\n",
    "cookies = WebDriverWait(driver,5).until(EC.element_to_be_clickable((By.ID, 'onetrust-accept-btn-handler'))).click()"
   ]
  },
  {
   "cell_type": "code",
   "execution_count": 84,
   "metadata": {},
   "outputs": [],
   "source": [
    "# Close Log in pop up window\n",
    "x_button = driver.find_element(By.CSS_SELECTOR, '[class=\"sb-modal__close__btn uk-modal-close-default uk-icon uk-close\"]').click()"
   ]
  },
  {
   "cell_type": "code",
   "execution_count": 25,
   "metadata": {},
   "outputs": [],
   "source": [
    "# Click 24 hours button\n",
    "button_24 = driver.find_element(By.CSS_SELECTOR, '[class=\"events-tabs-container__tab__item__button GTM-24\"]').click()"
   ]
  },
  {
   "cell_type": "code",
   "execution_count": 38,
   "metadata": {},
   "outputs": [],
   "source": [
    "### Scroll down the page and wait all values to load ###\n",
    "\n",
    "# Get initial page height\n",
    "last_height = driver.execute_script('window,scrollTo(0,document.body.scrollHeight)')\n",
    "\n",
    "while True:\n",
    "    # Wait for new values to load\n",
    "    time.sleep(3)\n",
    "    # Calculate the new height of the page and check if it has changed\n",
    "    new_height = driver.execute_script('window,scrollTo(0,document.body.scrollHeight)')\n",
    "    if new_height == last_height:\n",
    "        # if the page height hasn't changed, exit the loop\n",
    "        break\n",
    "    else:\n",
    "        # If the page height has changed, update the last height and continue scrolling\n",
    "        last_height = new_height\n",
    "\n",
    "\n",
    "# Wait for the dailyCoupon_body element to be present on the page\n",
    "wait = WebDriverWait(driver, 10)\n",
    "# By deafult is the football first\n",
    "daily_coupon_body = wait.until(EC.visibility_of_element_located((By.CSS_SELECTOR, '[class=\"grid__column grid__column--fluid grid__column--main\"]')))\n",
    "\n",
    "# Extract footbal text\n",
    "football_string = daily_coupon_body.text"
   ]
  },
  {
   "cell_type": "code",
   "execution_count": 53,
   "metadata": {},
   "outputs": [],
   "source": [
    "# Create list from the initial string\n",
    "initial_list = football_string.split('\\n')\n",
    "\n",
    "# Remove first elements of the list not needed\n",
    "remove_elements = ['Home Soccer Next 24 Hours Full Coupon', 'Soccer - Complete Coupon',\n",
    " 'All', '3 hours', '12 hours','24 hours','By start time','By Competition',\n",
    " 'Soccer - Matches in the next 24 hours','Matches','1','X','2','O/U 2.5','GG/NG','0%','Semifinals','In neutral venue']\n",
    "list_1 = [x for x in initial_list if x not in remove_elements]\n",
    "\n",
    "# Remove elements that start with \"1st leg\"\n",
    "football_list = [x for x in list_1 if not x.startswith('1st leg:')]"
   ]
  },
  {
   "cell_type": "code",
   "execution_count": 75,
   "metadata": {},
   "outputs": [],
   "source": [
    "# Create sublists based on date (matches)\n",
    "match = [x for x in football_list if '/' in x]\n",
    "index_match = [i for i,x in enumerate(football_list) if '/' in x]\n",
    "sublists_matches = [football_list[i:j] for i, j in zip([0]+index_match, index_match + [len(football_list)])]\n",
    "\n",
    "# Exclude the initial empty list from sublist_championships\n",
    "sublists_matches = sublists_matches[1:]\n",
    "\n",
    "# Remove the last element of each sublist (extra bets)\n",
    "for sublist in sublists_matches:\n",
    "    sublist.pop()\n",
    "\n",
    "# Add extra elements for the missing bets\n",
    "extra_element = 'No_bet'\n",
    "for sublist in sublists_matches:\n",
    "    if len(sublist) < 15:\n",
    "        sublist.extend([extra_element] * (15 - len(sublist)))"
   ]
  },
  {
   "cell_type": "code",
   "execution_count": 81,
   "metadata": {},
   "outputs": [],
   "source": [
    "columns = ['date', 'time', 'team1', 'team2', '1', 'X', '2', 'O', 'O_odds', 'U', 'U_odds', 'Yes', 'Yes_odds', 'No', 'No_odds']\n",
    "\n",
    "df_football = pd.DataFrame(sublists_matches, columns=columns)"
   ]
  },
  {
   "attachments": {},
   "cell_type": "markdown",
   "metadata": {},
   "source": [
    "## 2. Basketball"
   ]
  },
  {
   "cell_type": "code",
   "execution_count": 85,
   "metadata": {},
   "outputs": [],
   "source": [
    "basketball_url = 'https://en.stoiximan.gr/sport/basketball/'\n",
    "driver.get(basketball_url)"
   ]
  },
  {
   "cell_type": "code",
   "execution_count": 89,
   "metadata": {},
   "outputs": [],
   "source": [
    "# Click 24 hours button\n",
    "button_24 = driver.find_element(By.CSS_SELECTOR, '[class=\"events-tabs-container__tab__item__button GTM-24\"]').click()"
   ]
  },
  {
   "cell_type": "code",
   "execution_count": 90,
   "metadata": {},
   "outputs": [],
   "source": [
    "### Scroll down the page and wait all values to load ###\n",
    "\n",
    "# Get initial page height\n",
    "last_height = driver.execute_script('window,scrollTo(0,document.body.scrollHeight)')\n",
    "\n",
    "while True:\n",
    "    # Wait for new values to load\n",
    "    time.sleep(5)\n",
    "    # Calculate the new height of the page and check if it has changed\n",
    "    new_height = driver.execute_script('window,scrollTo(0,document.body.scrollHeight)')\n",
    "    if new_height == last_height:\n",
    "        # if the page height hasn't changed, exit the loop\n",
    "        break\n",
    "    else:\n",
    "        # If the page height has changed, update the last height and continue scrolling\n",
    "        last_height = new_height\n",
    "\n",
    "\n",
    "# Wait for the dailyCoupon_body element to be present on the page\n",
    "wait = WebDriverWait(driver, 10)\n",
    "# By deafult is the football first\n",
    "daily_coupon_body = wait.until(EC.visibility_of_element_located((By.CSS_SELECTOR, '[class=\"grid__column grid__column--fluid grid__column--main\"]')))\n",
    "\n",
    "# Extract footbal text\n",
    "basketball_string = daily_coupon_body.text"
   ]
  },
  {
   "cell_type": "code",
   "execution_count": 112,
   "metadata": {},
   "outputs": [],
   "source": [
    "# Create list from the initial string\n",
    "initial_list = basketball_string.split('\\n')\n",
    "\n",
    "# Remove first elements of the list not needed\n",
    "remove_elements = ['Home Basketball Next 24 Hours Full Coupon', 'Basketball - Complete Coupon',\n",
    " 'All', '3 hours', '12 hours','24 hours','By start time','By Competition',\n",
    " 'Basketball - Matches in the next 24 hours','Matches','WIN','HANDICAP','OVER/UNDER','0%','Semifinals','In neutral venue']\n",
    "list_1 = [x for x in initial_list if x not in remove_elements]\n",
    "\n",
    "# Remove elements that start with \"1st leg\"\n",
    "basketball_list = [x for x in list_1 if not x.startswith('1st leg:')]"
   ]
  },
  {
   "cell_type": "code",
   "execution_count": 113,
   "metadata": {},
   "outputs": [],
   "source": [
    "# Create sublists based on date (matches)\n",
    "match = [x for x in basketball_list if '/' in x]\n",
    "index_match = [i for i,x in enumerate(basketball_list) if '/' in x]\n",
    "sublists_matches = [basketball_list[i:j] for i, j in zip([0]+index_match, index_match + [len(basketball_list)])]\n",
    "\n",
    "# Exclude the initial empty list from sublist_championships\n",
    "sublists_matches = sublists_matches[1:]\n",
    "\n",
    "# Remove the last element of each sublist (extra bets)\n",
    "for sublist in sublists_matches:\n",
    "    sublist.pop()\n",
    "\n",
    "# Add extra elements for the missing bets\n",
    "extra_element = 'No_bet'\n",
    "for sublist in sublists_matches:\n",
    "    if len(sublist) < 14:\n",
    "        sublist.extend([extra_element] * (14 - len(sublist)))"
   ]
  },
  {
   "cell_type": "code",
   "execution_count": 115,
   "metadata": {},
   "outputs": [],
   "source": [
    "columns = ['date', 'time', 'team1', 'team2', 'WIN_1', 'WIN_2', 'Handicap_1', 'Hand_1_odds', 'Handicap_2', 'Hand_2_odds','O','O_odds','U','U_odds']\n",
    "\n",
    "df_basketball = pd.DataFrame(sublists_matches, columns=columns)"
   ]
  },
  {
   "attachments": {},
   "cell_type": "markdown",
   "metadata": {},
   "source": [
    "## 3. Tennis"
   ]
  },
  {
   "cell_type": "code",
   "execution_count": null,
   "metadata": {},
   "outputs": [],
   "source": [
    "tennis_url = 'https://en.stoiximan.gr/sport/tennis/'\n",
    "driver.get(tennis_url)"
   ]
  },
  {
   "cell_type": "code",
   "execution_count": 117,
   "metadata": {},
   "outputs": [],
   "source": [
    "# Click 24 hours button\n",
    "button_24 = driver.find_element(By.CSS_SELECTOR, '[class=\"events-tabs-container__tab__item__button GTM-24\"]').click()"
   ]
  },
  {
   "cell_type": "code",
   "execution_count": 121,
   "metadata": {},
   "outputs": [],
   "source": [
    "### Scroll down the page and wait all values to load ###\n",
    "\n",
    "# Get initial page height\n",
    "last_height = driver.execute_script('window,scrollTo(0,document.body.scrollHeight)')\n",
    "\n",
    "while True:\n",
    "    # Wait for new values to load\n",
    "    time.sleep(5)\n",
    "    # Calculate the new height of the page and check if it has changed\n",
    "    new_height = driver.execute_script('window,scrollTo(0,document.body.scrollHeight)')\n",
    "    if new_height == last_height:\n",
    "        # if the page height hasn't changed, exit the loop\n",
    "        break\n",
    "    else:\n",
    "        # If the page height has changed, update the last height and continue scrolling\n",
    "        last_height = new_height\n",
    "\n",
    "\n",
    "# Wait for the dailyCoupon_body element to be present on the page\n",
    "wait = WebDriverWait(driver, 10)\n",
    "# By deafult is the football first\n",
    "daily_coupon_body = wait.until(EC.visibility_of_element_located((By.CSS_SELECTOR, '[class=\"grid__column grid__column--fluid grid__column--main\"]')))\n",
    "\n",
    "# Extract footbal text\n",
    "tennis_string = daily_coupon_body.text"
   ]
  },
  {
   "cell_type": "code",
   "execution_count": 127,
   "metadata": {},
   "outputs": [],
   "source": [
    "# Create list from the initial string\n",
    "initial_list = tennis_string.split('\\n')\n",
    "\n",
    "# Remove first elements of the list not needed\n",
    "remove_elements = ['Home Tennis Next 24 Hours Full Coupon', 'Tennis - Complete Coupon',\n",
    " 'All', '3 hours', '12 hours','24 hours','By start time','By Competition',\n",
    " 'Tennis - Matches in the next 24 hours','Matches','WIN','HANDICAP','OVER/UNDER','GAMES O/U','0%','Semifinals','In neutral venue']\n",
    "list_1 = [x for x in initial_list if x not in remove_elements]\n",
    "\n",
    "# Remove elements that start with \"1st leg\"\n",
    "tennis_list = [x for x in list_1 if not x.startswith('1st leg:')]"
   ]
  },
  {
   "cell_type": "code",
   "execution_count": 128,
   "metadata": {},
   "outputs": [],
   "source": [
    "# Create sublists based on date (matches)\n",
    "match = [x for x in tennis_list if '/' in x]\n",
    "index_match = [i for i,x in enumerate(tennis_list) if '/' in x]\n",
    "sublists_matches = [tennis_list[i:j] for i, j in zip([0]+index_match, index_match + [len(tennis_list)])]\n",
    "\n",
    "# Exclude the initial empty list from sublist_championships\n",
    "sublists_matches = sublists_matches[1:]\n",
    "\n",
    "# Remove the last element of each sublist (extra bets)\n",
    "for sublist in sublists_matches:\n",
    "    sublist.pop()\n",
    "\n",
    "# Add extra elements for the missing bets\n",
    "extra_element = 'No_bet'\n",
    "for sublist in sublists_matches:\n",
    "    if len(sublist) < 14:\n",
    "        sublist.extend([extra_element] * (14 - len(sublist)))"
   ]
  },
  {
   "cell_type": "code",
   "execution_count": 130,
   "metadata": {},
   "outputs": [
    {
     "data": {
      "text/plain": [
       "['24/03',\n",
       " '10:00',\n",
       " 'Martina Caregaro',\n",
       " 'Margarita Ignatjeva',\n",
       " '1.13',\n",
       " '5.10',\n",
       " 'O 18.5',\n",
       " '1.88',\n",
       " 'U 18.5',\n",
       " '1.80',\n",
       " '-6.5',\n",
       " '1.93',\n",
       " '+6.5',\n",
       " '1.75']"
      ]
     },
     "execution_count": 130,
     "metadata": {},
     "output_type": "execute_result"
    }
   ],
   "source": [
    "sublists_matches[3]"
   ]
  },
  {
   "cell_type": "code",
   "execution_count": 132,
   "metadata": {},
   "outputs": [],
   "source": [
    "columns = ['date', 'time', 'player1', 'player2', 'WIN_1', 'WIN_2', 'O','O_odds','U','U_odds', 'Handicap_1', 'Hand_1_odds', 'Handicap_2', 'Hand_2_odds']\n",
    "\n",
    "df_tennis = pd.DataFrame(sublists_matches, columns=columns)"
   ]
  }
 ],
 "metadata": {
  "kernelspec": {
   "display_name": "base",
   "language": "python",
   "name": "python3"
  },
  "language_info": {
   "codemirror_mode": {
    "name": "ipython",
    "version": 3
   },
   "file_extension": ".py",
   "mimetype": "text/x-python",
   "name": "python",
   "nbconvert_exporter": "python",
   "pygments_lexer": "ipython3",
   "version": "3.8.12"
  },
  "orig_nbformat": 4
 },
 "nbformat": 4,
 "nbformat_minor": 2
}
